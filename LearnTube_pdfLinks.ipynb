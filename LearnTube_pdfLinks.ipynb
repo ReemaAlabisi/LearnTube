{
  "cells": [
    {
      "cell_type": "markdown",
      "metadata": {
        "id": "p2WBpvjgw5SY"
      },
      "source": [
        "## ✨ Project Presentation\n",
        "https://drive.google.com/file/d/1NzBP9CcZDpvFGxOTViNmELQ5jE7Xj6c7/view?usp=sharing"
      ]
    },
    {
      "cell_type": "markdown",
      "metadata": {},
      "source": [
        "## ✨ Project Demo (streamlit)\n",
        "https://drive.google.com/file/d/1SCOrJwHHiO13x1CquS9MUjpudBJBpGnP/view?usp=sharing"
      ]
    },
    {
      "cell_type": "markdown",
      "metadata": {},
      "source": [
        "## ✨ Project Report\n",
        "https://drive.google.com/file/d/1ZDV88dqmOpI8EEGCfRNyC0whCytWqHUO/view?usp=sharing"
      ]
    }
  ],
  "metadata": {
    "colab": {
      "provenance": []
    },
    "kernelspec": {
      "display_name": "Python 3",
      "name": "python3"
    },
    "language_info": {
      "name": "python"
    }
  },
  "nbformat": 4,
  "nbformat_minor": 0
}
